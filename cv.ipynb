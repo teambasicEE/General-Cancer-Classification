{
 "cells": [
  {
   "cell_type": "code",
   "execution_count": 8,
   "metadata": {
    "collapsed": true,
    "ExecuteTime": {
     "end_time": "2023-08-11T08:08:53.971725800Z",
     "start_time": "2023-08-11T08:08:53.931726200Z"
    }
   },
   "outputs": [
    {
     "data": {
      "text/plain": "array([[[171, 125, 172],\n        [172, 126, 172],\n        [175, 133, 174],\n        ...,\n        [171, 129, 164],\n        [178, 125, 158],\n        [173, 114, 145]],\n\n       [[153, 109, 156],\n        [170, 129, 174],\n        [168, 129, 174],\n        ...,\n        [153, 116, 154],\n        [150, 106, 143],\n        [136,  88, 124]],\n\n       [[162, 123, 168],\n        [180, 143, 189],\n        [160, 128, 177],\n        ...,\n        [195, 167, 213],\n        [159, 130, 175],\n        [144, 115, 160]],\n\n       ...,\n\n       [[125,  81, 120],\n        [157, 111, 153],\n        [148,  96, 144],\n        ...,\n        [211, 176, 210],\n        [235, 191, 232],\n        [255, 214, 255]],\n\n       [[141,  92, 136],\n        [181, 129, 176],\n        [179, 117, 171],\n        ...,\n        [186, 136, 166],\n        [222, 158, 188],\n        [205, 135, 165]],\n\n       [[160, 108, 155],\n        [179, 123, 172],\n        [175, 110, 166],\n        ...,\n        [138,  83, 110],\n        [148,  74,  98],\n        [140,  58,  81]]], dtype=uint8)"
     },
     "execution_count": 8,
     "metadata": {},
     "output_type": "execute_result"
    }
   ],
   "source": [
    "import cv2\n",
    "\n",
    "cv2.imread('C:\\\\Users\\\\User\\\\Desktop\\\\gastric\\\\gastric_cancer_wsi_1024_80_her01_step05_bright230_resize05\\\\gastric_63\\\\gastric_63_patch_10048_1856_class_2.jpg')\n"
   ]
  },
  {
   "cell_type": "code",
   "execution_count": null,
   "outputs": [],
   "source": [
    "'C:\\\\Users\\\\User\\\\Desktop\\\\gastric\\\\gastric_cancer_wsi_1024_80_her01_step05_bright230_resize05\\\\gastric_63\\\\gastric_63_patch_10048_1856_class_2.jpg'"
   ],
   "metadata": {
    "collapsed": false
   }
  }
 ],
 "metadata": {
  "kernelspec": {
   "display_name": "Python 3",
   "language": "python",
   "name": "python3"
  },
  "language_info": {
   "codemirror_mode": {
    "name": "ipython",
    "version": 2
   },
   "file_extension": ".py",
   "mimetype": "text/x-python",
   "name": "python",
   "nbconvert_exporter": "python",
   "pygments_lexer": "ipython2",
   "version": "2.7.6"
  }
 },
 "nbformat": 4,
 "nbformat_minor": 0
}
