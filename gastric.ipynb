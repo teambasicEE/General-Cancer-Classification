{
 "cells": [
  {
   "cell_type": "code",
   "execution_count": 4,
   "metadata": {
    "collapsed": true,
    "ExecuteTime": {
     "end_time": "2023-08-11T08:40:13.897476500Z",
     "start_time": "2023-08-11T08:40:12.528834200Z"
    }
   },
   "outputs": [],
   "source": [
    "import pandas as pd\n",
    "\n",
    "from dataset import gastric_data_read\n",
    "\n",
    "_, train, __, valid, ___, test = gastric_data_read()\n"
   ]
  },
  {
   "cell_type": "code",
   "execution_count": 16,
   "outputs": [],
   "source": [
    "import pandas as pd\n",
    "df = pd.DataFrame([train.value_counts(), valid.value_counts(), test.value_counts()])"
   ],
   "metadata": {
    "collapsed": false,
    "ExecuteTime": {
     "end_time": "2023-08-11T08:41:46.750727100Z",
     "start_time": "2023-08-11T08:41:46.742648400Z"
    }
   }
  },
  {
   "cell_type": "code",
   "execution_count": 17,
   "outputs": [],
   "source": [
    "df.index = ['Train' ,'Valid', 'Test']"
   ],
   "metadata": {
    "collapsed": false,
    "ExecuteTime": {
     "end_time": "2023-08-11T08:41:47.315514200Z",
     "start_time": "2023-08-11T08:41:47.307512700Z"
    }
   }
  },
  {
   "cell_type": "code",
   "execution_count": 22,
   "outputs": [],
   "source": [
    "df = df[[0,1,2,3]]"
   ],
   "metadata": {
    "collapsed": false,
    "ExecuteTime": {
     "end_time": "2023-08-11T08:42:05.662934500Z",
     "start_time": "2023-08-11T08:42:05.654935100Z"
    }
   }
  },
  {
   "cell_type": "code",
   "execution_count": 24,
   "outputs": [
    {
     "data": {
      "text/plain": "           BN     WD     MD     PD\nTrain  171143  14193  20815  27642\nValid   33579   8854   9510   9467\nTest    31720   7247   9892  14386",
      "text/html": "<div>\n<style scoped>\n    .dataframe tbody tr th:only-of-type {\n        vertical-align: middle;\n    }\n\n    .dataframe tbody tr th {\n        vertical-align: top;\n    }\n\n    .dataframe thead th {\n        text-align: right;\n    }\n</style>\n<table border=\"1\" class=\"dataframe\">\n  <thead>\n    <tr style=\"text-align: right;\">\n      <th></th>\n      <th>BN</th>\n      <th>WD</th>\n      <th>MD</th>\n      <th>PD</th>\n    </tr>\n  </thead>\n  <tbody>\n    <tr>\n      <th>Train</th>\n      <td>171143</td>\n      <td>14193</td>\n      <td>20815</td>\n      <td>27642</td>\n    </tr>\n    <tr>\n      <th>Valid</th>\n      <td>33579</td>\n      <td>8854</td>\n      <td>9510</td>\n      <td>9467</td>\n    </tr>\n    <tr>\n      <th>Test</th>\n      <td>31720</td>\n      <td>7247</td>\n      <td>9892</td>\n      <td>14386</td>\n    </tr>\n  </tbody>\n</table>\n</div>"
     },
     "execution_count": 24,
     "metadata": {},
     "output_type": "execute_result"
    }
   ],
   "source": [
    "df.columns = ['BN','WD','MD','PD']\n",
    "df"
   ],
   "metadata": {
    "collapsed": false,
    "ExecuteTime": {
     "end_time": "2023-08-11T08:43:06.671391Z",
     "start_time": "2023-08-11T08:43:06.671391Z"
    }
   }
  },
  {
   "cell_type": "code",
   "execution_count": 26,
   "outputs": [
    {
     "data": {
      "text/plain": "Train    233793\nValid     61410\nTest      63245\ndtype: int64"
     },
     "execution_count": 26,
     "metadata": {},
     "output_type": "execute_result"
    }
   ],
   "source": [
    "df.sum(1)"
   ],
   "metadata": {
    "collapsed": false,
    "ExecuteTime": {
     "end_time": "2023-08-11T08:43:12.653249300Z",
     "start_time": "2023-08-11T08:43:12.635615300Z"
    }
   }
  }
 ],
 "metadata": {
  "kernelspec": {
   "display_name": "Python 3",
   "language": "python",
   "name": "python3"
  },
  "language_info": {
   "codemirror_mode": {
    "name": "ipython",
    "version": 2
   },
   "file_extension": ".py",
   "mimetype": "text/x-python",
   "name": "python",
   "nbconvert_exporter": "python",
   "pygments_lexer": "ipython2",
   "version": "2.7.6"
  }
 },
 "nbformat": 4,
 "nbformat_minor": 0
}
